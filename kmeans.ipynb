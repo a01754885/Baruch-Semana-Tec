{
 "cells": [
  {
   "cell_type": "code",
   "execution_count": 66,
   "id": "575e0bb4",
   "metadata": {},
   "outputs": [],
   "source": [
    "import pandas as pd\n",
    "from sklearn.cluster import KMeans\n",
    "from sklearn.compose import ColumnTransformer\n",
    "from sklearn.preprocessing import StandardScaler, OneHotEncoder\n",
    "from sklearn.decomposition import PCA\n",
    "import matplotlib.pyplot as plt\n",
    "import seaborn as sns\n"
   ]
  },
  {
   "cell_type": "code",
   "execution_count": 67,
   "id": "fff21fc0",
   "metadata": {},
   "outputs": [],
   "source": [
    "df = pd.read_csv(\"NBA.Stats.csv\")"
   ]
  },
  {
   "cell_type": "code",
   "execution_count": 68,
   "id": "b2ef1be3",
   "metadata": {},
   "outputs": [
    {
     "data": {
      "text/html": [
       "<div>\n",
       "<style scoped>\n",
       "    .dataframe tbody tr th:only-of-type {\n",
       "        vertical-align: middle;\n",
       "    }\n",
       "\n",
       "    .dataframe tbody tr th {\n",
       "        vertical-align: top;\n",
       "    }\n",
       "\n",
       "    .dataframe thead th {\n",
       "        text-align: right;\n",
       "    }\n",
       "</style>\n",
       "<table border=\"1\" class=\"dataframe\">\n",
       "  <thead>\n",
       "    <tr style=\"text-align: right;\">\n",
       "      <th></th>\n",
       "      <th>RANK</th>\n",
       "      <th>NAME</th>\n",
       "      <th>TEAM</th>\n",
       "      <th>POS</th>\n",
       "      <th>AGE</th>\n",
       "      <th>GP</th>\n",
       "      <th>MPG</th>\n",
       "      <th>USG%</th>\n",
       "      <th>TO%</th>\n",
       "      <th>FTA</th>\n",
       "      <th>...</th>\n",
       "      <th>APG</th>\n",
       "      <th>SPG</th>\n",
       "      <th>BPG</th>\n",
       "      <th>TPG</th>\n",
       "      <th>P+R</th>\n",
       "      <th>P+A</th>\n",
       "      <th>P+R+A</th>\n",
       "      <th>VI</th>\n",
       "      <th>ORtg</th>\n",
       "      <th>DRtg</th>\n",
       "    </tr>\n",
       "  </thead>\n",
       "  <tbody>\n",
       "    <tr>\n",
       "      <th>0</th>\n",
       "      <td>1</td>\n",
       "      <td>Joel Embiid</td>\n",
       "      <td>Phi</td>\n",
       "      <td>C</td>\n",
       "      <td>30.2</td>\n",
       "      <td>6</td>\n",
       "      <td>41.4</td>\n",
       "      <td>35.7</td>\n",
       "      <td>15.8</td>\n",
       "      <td>78</td>\n",
       "      <td>...</td>\n",
       "      <td>5.7</td>\n",
       "      <td>1.2</td>\n",
       "      <td>1.5</td>\n",
       "      <td>4.2</td>\n",
       "      <td>43.8</td>\n",
       "      <td>38.7</td>\n",
       "      <td>49.5</td>\n",
       "      <td>12.2</td>\n",
       "      <td>117.1</td>\n",
       "      <td>108.0</td>\n",
       "    </tr>\n",
       "    <tr>\n",
       "      <th>1</th>\n",
       "      <td>2</td>\n",
       "      <td>Jalen Brunson</td>\n",
       "      <td>Nyk</td>\n",
       "      <td>G</td>\n",
       "      <td>27.8</td>\n",
       "      <td>13</td>\n",
       "      <td>39.8</td>\n",
       "      <td>36.4</td>\n",
       "      <td>9.3</td>\n",
       "      <td>120</td>\n",
       "      <td>...</td>\n",
       "      <td>7.5</td>\n",
       "      <td>0.8</td>\n",
       "      <td>0.2</td>\n",
       "      <td>2.7</td>\n",
       "      <td>35.7</td>\n",
       "      <td>39.8</td>\n",
       "      <td>43.2</td>\n",
       "      <td>9.3</td>\n",
       "      <td>114.8</td>\n",
       "      <td>114.7</td>\n",
       "    </tr>\n",
       "    <tr>\n",
       "      <th>2</th>\n",
       "      <td>3</td>\n",
       "      <td>Damian Lillard</td>\n",
       "      <td>Mil</td>\n",
       "      <td>G</td>\n",
       "      <td>33.9</td>\n",
       "      <td>4</td>\n",
       "      <td>39.1</td>\n",
       "      <td>31.4</td>\n",
       "      <td>10.0</td>\n",
       "      <td>38</td>\n",
       "      <td>...</td>\n",
       "      <td>5.0</td>\n",
       "      <td>1.0</td>\n",
       "      <td>0.0</td>\n",
       "      <td>2.3</td>\n",
       "      <td>34.5</td>\n",
       "      <td>36.3</td>\n",
       "      <td>39.5</td>\n",
       "      <td>8.2</td>\n",
       "      <td>127.6</td>\n",
       "      <td>115.7</td>\n",
       "    </tr>\n",
       "    <tr>\n",
       "      <th>3</th>\n",
       "      <td>4</td>\n",
       "      <td>Shai Gilgeous-Alexander</td>\n",
       "      <td>Okc</td>\n",
       "      <td>G</td>\n",
       "      <td>25.9</td>\n",
       "      <td>10</td>\n",
       "      <td>39.9</td>\n",
       "      <td>32.3</td>\n",
       "      <td>8.9</td>\n",
       "      <td>81</td>\n",
       "      <td>...</td>\n",
       "      <td>6.4</td>\n",
       "      <td>1.3</td>\n",
       "      <td>1.7</td>\n",
       "      <td>2.2</td>\n",
       "      <td>37.4</td>\n",
       "      <td>36.6</td>\n",
       "      <td>43.8</td>\n",
       "      <td>11.2</td>\n",
       "      <td>118.3</td>\n",
       "      <td>106.9</td>\n",
       "    </tr>\n",
       "    <tr>\n",
       "      <th>4</th>\n",
       "      <td>5</td>\n",
       "      <td>Tyrese Maxey</td>\n",
       "      <td>Phi</td>\n",
       "      <td>G</td>\n",
       "      <td>23.6</td>\n",
       "      <td>6</td>\n",
       "      <td>44.6</td>\n",
       "      <td>28.1</td>\n",
       "      <td>8.6</td>\n",
       "      <td>28</td>\n",
       "      <td>...</td>\n",
       "      <td>6.8</td>\n",
       "      <td>0.8</td>\n",
       "      <td>0.3</td>\n",
       "      <td>2.2</td>\n",
       "      <td>35.0</td>\n",
       "      <td>36.7</td>\n",
       "      <td>41.8</td>\n",
       "      <td>9.1</td>\n",
       "      <td>120.9</td>\n",
       "      <td>113.3</td>\n",
       "    </tr>\n",
       "  </tbody>\n",
       "</table>\n",
       "<p>5 rows × 29 columns</p>\n",
       "</div>"
      ],
      "text/plain": [
       "   RANK                     NAME TEAM POS   AGE  GP   MPG  USG%   TO%  FTA  \\\n",
       "0     1              Joel Embiid  Phi   C  30.2   6  41.4  35.7  15.8   78   \n",
       "1     2            Jalen Brunson  Nyk   G  27.8  13  39.8  36.4   9.3  120   \n",
       "2     3           Damian Lillard  Mil   G  33.9   4  39.1  31.4  10.0   38   \n",
       "3     4  Shai Gilgeous-Alexander  Okc   G  25.9  10  39.9  32.3   8.9   81   \n",
       "4     5             Tyrese Maxey  Phi   G  23.6   6  44.6  28.1   8.6   28   \n",
       "\n",
       "   ...  APG  SPG  BPG  TPG   P+R   P+A  P+R+A    VI   ORtg   DRtg  \n",
       "0  ...  5.7  1.2  1.5  4.2  43.8  38.7   49.5  12.2  117.1  108.0  \n",
       "1  ...  7.5  0.8  0.2  2.7  35.7  39.8   43.2   9.3  114.8  114.7  \n",
       "2  ...  5.0  1.0  0.0  2.3  34.5  36.3   39.5   8.2  127.6  115.7  \n",
       "3  ...  6.4  1.3  1.7  2.2  37.4  36.6   43.8  11.2  118.3  106.9  \n",
       "4  ...  6.8  0.8  0.3  2.2  35.0  36.7   41.8   9.1  120.9  113.3  \n",
       "\n",
       "[5 rows x 29 columns]"
      ]
     },
     "execution_count": 68,
     "metadata": {},
     "output_type": "execute_result"
    }
   ],
   "source": [
    "df.head()"
   ]
  },
  {
   "cell_type": "code",
   "execution_count": 69,
   "id": "8ca0a7fd",
   "metadata": {},
   "outputs": [],
   "source": [
    "numerical_columns = []\n",
    "categorical_columns = []\n",
    "for column in df.columns:\n",
    "    if df[column].dtype == 'object':\n",
    "        categorical_columns.append(column)\n",
    "    else:\n",
    "        numerical_columns.append(column)"
   ]
  },
  {
   "cell_type": "code",
   "execution_count": 70,
   "id": "e723bbaf",
   "metadata": {},
   "outputs": [],
   "source": [
    "preprocessor = ColumnTransformer([\n",
    "    (\"num\", StandardScaler(), numerical_columns),\n",
    "    (\"cat\", OneHotEncoder(), categorical_columns)\n",
    "])"
   ]
  },
  {
   "cell_type": "code",
   "execution_count": 71,
   "id": "6fef0677",
   "metadata": {},
   "outputs": [],
   "source": [
    "X = preprocessor.fit_transform(df)\n"
   ]
  },
  {
   "cell_type": "code",
   "execution_count": 72,
   "id": "0677ee87",
   "metadata": {},
   "outputs": [
    {
     "name": "stdout",
     "output_type": "stream",
     "text": [
      "K=1, Inercia = 6,101.699531 - Diferencia = 0.000000\n",
      "K=2, Inercia = 4,194.594977 - Diferencia = 1,907.104554\n",
      "K=3, Inercia = 3,557.331750 - Diferencia = 637.263227\n",
      "K=4, Inercia = 3,231.830668 - Diferencia = 325.501082\n",
      "K=5, Inercia = 3,081.218692 - Diferencia = 150.611977\n",
      "K=6, Inercia = 2,909.843836 - Diferencia = 171.374856\n",
      "K=7, Inercia = 2,763.918244 - Diferencia = 145.925592\n",
      "K=8, Inercia = 2,665.279161 - Diferencia = 98.639083\n",
      "K=9, Inercia = 2,597.133172 - Diferencia = 68.145989\n",
      "K=10, Inercia = 2,509.246225 - Diferencia = 87.886947\n"
     ]
    }
   ],
   "source": [
    "inertias = []\n",
    "for k in range(1, 11):\n",
    "    kmeans = KMeans(n_clusters=k, random_state=42)\n",
    "    kmeans.fit(X)\n",
    "    inertias.append(kmeans.inertia_)\n",
    "    diff = inertias[-2] - inertias[-1] if k > 1 else 0\n",
    "    print(f'K={k}, Inercia = {kmeans.inertia_:,.6f} - Diferencia = {diff:,.6f}')"
   ]
  },
  {
   "cell_type": "code",
   "execution_count": 73,
   "id": "ee786b89",
   "metadata": {},
   "outputs": [
    {
     "data": {
      "image/png": "[encoded data removed]",
      "text/plain": [
       "<Figure size 640x480 with 1 Axes>"
      ]
     },
     "metadata": {},
     "output_type": "display_data"
    }
   ],
   "source": [
    "sns.lineplot(x=range(1, 11), y=inertias, marker=\"o\")\n",
    "plt.xlabel(\"Número de clusters (k)\")\n",
    "plt.ylabel(\"Inercia (SSE - Suma de errores al cuadrado)\")\n",
    "plt.title(\"Método del codo para determinar el número óptimo de clusters\")\n",
    "plt.xticks(range(1, 11))\n",
    "plt.grid()\n",
    "plt.show()"
   ]
  },
  {
   "cell_type": "code",
   "execution_count": 74,
   "id": "1a0f768c",
   "metadata": {},
   "outputs": [
    {
     "data": {
      "text/html": [
       "<div>\n",
       "<style scoped>\n",
       "    .dataframe tbody tr th:only-of-type {\n",
       "        vertical-align: middle;\n",
       "    }\n",
       "\n",
       "    .dataframe tbody tr th {\n",
       "        vertical-align: top;\n",
       "    }\n",
       "\n",
       "    .dataframe thead th {\n",
       "        text-align: right;\n",
       "    }\n",
       "</style>\n",
       "<table border=\"1\" class=\"dataframe\">\n",
       "  <thead>\n",
       "    <tr style=\"text-align: right;\">\n",
       "      <th></th>\n",
       "      <th>RANK</th>\n",
       "      <th>NAME</th>\n",
       "      <th>TEAM</th>\n",
       "      <th>POS</th>\n",
       "      <th>AGE</th>\n",
       "      <th>GP</th>\n",
       "      <th>MPG</th>\n",
       "      <th>USG%</th>\n",
       "      <th>TO%</th>\n",
       "      <th>FTA</th>\n",
       "      <th>...</th>\n",
       "      <th>SPG</th>\n",
       "      <th>BPG</th>\n",
       "      <th>TPG</th>\n",
       "      <th>P+R</th>\n",
       "      <th>P+A</th>\n",
       "      <th>P+R+A</th>\n",
       "      <th>VI</th>\n",
       "      <th>ORtg</th>\n",
       "      <th>DRtg</th>\n",
       "      <th>Cluster</th>\n",
       "    </tr>\n",
       "  </thead>\n",
       "  <tbody>\n",
       "    <tr>\n",
       "      <th>0</th>\n",
       "      <td>1</td>\n",
       "      <td>Joel Embiid</td>\n",
       "      <td>Phi</td>\n",
       "      <td>C</td>\n",
       "      <td>30.2</td>\n",
       "      <td>6</td>\n",
       "      <td>41.4</td>\n",
       "      <td>35.7</td>\n",
       "      <td>15.8</td>\n",
       "      <td>78</td>\n",
       "      <td>...</td>\n",
       "      <td>1.2</td>\n",
       "      <td>1.5</td>\n",
       "      <td>4.2</td>\n",
       "      <td>43.8</td>\n",
       "      <td>38.7</td>\n",
       "      <td>49.5</td>\n",
       "      <td>12.2</td>\n",
       "      <td>117.1</td>\n",
       "      <td>108.0</td>\n",
       "      <td>2</td>\n",
       "    </tr>\n",
       "    <tr>\n",
       "      <th>1</th>\n",
       "      <td>2</td>\n",
       "      <td>Jalen Brunson</td>\n",
       "      <td>Nyk</td>\n",
       "      <td>G</td>\n",
       "      <td>27.8</td>\n",
       "      <td>13</td>\n",
       "      <td>39.8</td>\n",
       "      <td>36.4</td>\n",
       "      <td>9.3</td>\n",
       "      <td>120</td>\n",
       "      <td>...</td>\n",
       "      <td>0.8</td>\n",
       "      <td>0.2</td>\n",
       "      <td>2.7</td>\n",
       "      <td>35.7</td>\n",
       "      <td>39.8</td>\n",
       "      <td>43.2</td>\n",
       "      <td>9.3</td>\n",
       "      <td>114.8</td>\n",
       "      <td>114.7</td>\n",
       "      <td>2</td>\n",
       "    </tr>\n",
       "    <tr>\n",
       "      <th>2</th>\n",
       "      <td>3</td>\n",
       "      <td>Damian Lillard</td>\n",
       "      <td>Mil</td>\n",
       "      <td>G</td>\n",
       "      <td>33.9</td>\n",
       "      <td>4</td>\n",
       "      <td>39.1</td>\n",
       "      <td>31.4</td>\n",
       "      <td>10.0</td>\n",
       "      <td>38</td>\n",
       "      <td>...</td>\n",
       "      <td>1.0</td>\n",
       "      <td>0.0</td>\n",
       "      <td>2.3</td>\n",
       "      <td>34.5</td>\n",
       "      <td>36.3</td>\n",
       "      <td>39.5</td>\n",
       "      <td>8.2</td>\n",
       "      <td>127.6</td>\n",
       "      <td>115.7</td>\n",
       "      <td>2</td>\n",
       "    </tr>\n",
       "    <tr>\n",
       "      <th>3</th>\n",
       "      <td>4</td>\n",
       "      <td>Shai Gilgeous-Alexander</td>\n",
       "      <td>Okc</td>\n",
       "      <td>G</td>\n",
       "      <td>25.9</td>\n",
       "      <td>10</td>\n",
       "      <td>39.9</td>\n",
       "      <td>32.3</td>\n",
       "      <td>8.9</td>\n",
       "      <td>81</td>\n",
       "      <td>...</td>\n",
       "      <td>1.3</td>\n",
       "      <td>1.7</td>\n",
       "      <td>2.2</td>\n",
       "      <td>37.4</td>\n",
       "      <td>36.6</td>\n",
       "      <td>43.8</td>\n",
       "      <td>11.2</td>\n",
       "      <td>118.3</td>\n",
       "      <td>106.9</td>\n",
       "      <td>2</td>\n",
       "    </tr>\n",
       "    <tr>\n",
       "      <th>4</th>\n",
       "      <td>5</td>\n",
       "      <td>Tyrese Maxey</td>\n",
       "      <td>Phi</td>\n",
       "      <td>G</td>\n",
       "      <td>23.6</td>\n",
       "      <td>6</td>\n",
       "      <td>44.6</td>\n",
       "      <td>28.1</td>\n",
       "      <td>8.6</td>\n",
       "      <td>28</td>\n",
       "      <td>...</td>\n",
       "      <td>0.8</td>\n",
       "      <td>0.3</td>\n",
       "      <td>2.2</td>\n",
       "      <td>35.0</td>\n",
       "      <td>36.7</td>\n",
       "      <td>41.8</td>\n",
       "      <td>9.1</td>\n",
       "      <td>120.9</td>\n",
       "      <td>113.3</td>\n",
       "      <td>2</td>\n",
       "    </tr>\n",
       "  </tbody>\n",
       "</table>\n",
       "<p>5 rows × 30 columns</p>\n",
       "</div>"
      ],
      "text/plain": [
       "   RANK                     NAME TEAM POS   AGE  GP   MPG  USG%   TO%  FTA  \\\n",
       "0     1              Joel Embiid  Phi   C  30.2   6  41.4  35.7  15.8   78   \n",
       "1     2            Jalen Brunson  Nyk   G  27.8  13  39.8  36.4   9.3  120   \n",
       "2     3           Damian Lillard  Mil   G  33.9   4  39.1  31.4  10.0   38   \n",
       "3     4  Shai Gilgeous-Alexander  Okc   G  25.9  10  39.9  32.3   8.9   81   \n",
       "4     5             Tyrese Maxey  Phi   G  23.6   6  44.6  28.1   8.6   28   \n",
       "\n",
       "   ...  SPG  BPG  TPG   P+R   P+A  P+R+A    VI   ORtg   DRtg  Cluster  \n",
       "0  ...  1.2  1.5  4.2  43.8  38.7   49.5  12.2  117.1  108.0        2  \n",
       "1  ...  0.8  0.2  2.7  35.7  39.8   43.2   9.3  114.8  114.7        2  \n",
       "2  ...  1.0  0.0  2.3  34.5  36.3   39.5   8.2  127.6  115.7        2  \n",
       "3  ...  1.3  1.7  2.2  37.4  36.6   43.8  11.2  118.3  106.9        2  \n",
       "4  ...  0.8  0.3  2.2  35.0  36.7   41.8   9.1  120.9  113.3        2  \n",
       "\n",
       "[5 rows x 30 columns]"
      ]
     },
     "execution_count": 74,
     "metadata": {},
     "output_type": "execute_result"
    }
   ],
   "source": [
    "kmeans = KMeans(n_clusters=4, random_state=42)\n",
    "kmeans.fit(X)\n",
    "df[\"Cluster\"] = kmeans.labels_\n",
    "df.head()"
   ]
  },
  {
   "cell_type": "code",
   "execution_count": 75,
   "id": "c62d7666",
   "metadata": {},
   "outputs": [],
   "source": [
    "pca = PCA(n_components=2)\n",
    "X_pca = pca.fit_transform(X)"
   ]
  },
  {
   "cell_type": "code",
   "execution_count": 76,
   "id": "66ab4ba9",
   "metadata": {},
   "outputs": [
    {
     "data": {
      "image/png": "[encoded data removed]",
      "text/plain": [
       "<Figure size 640x480 with 1 Axes>"
      ]
     },
     "metadata": {},
     "output_type": "display_data"
    }
   ],
   "source": [
    "sns.scatterplot(x=X_pca[:, 0], y=X_pca[:, 1], hue=df[\"Cluster\"])\n",
    "plt.title(\"Visualización de clusters con PCA\")\n",
    "plt.show()"
   ]
  },
  {
   "cell_type": "code",
   "execution_count": 77,
   "id": "17683402",
   "metadata": {},
   "outputs": [
    {
     "data": {
      "text/plain": [
       "Cluster\n",
       "3    89\n",
       "0    63\n",
       "2    32\n",
       "1    29\n",
       "Name: count, dtype: int64"
      ]
     },
     "execution_count": 77,
     "metadata": {},
     "output_type": "execute_result"
    }
   ],
   "source": [
    "df[\"Cluster\"].value_counts()"
   ]
  },
  {
   "cell_type": "code",
   "execution_count": 78,
   "id": "1d4f46f9",
   "metadata": {},
   "outputs": [
    {
     "data": {
      "text/html": [
       "<div>\n",
       "<style scoped>\n",
       "    .dataframe tbody tr th:only-of-type {\n",
       "        vertical-align: middle;\n",
       "    }\n",
       "\n",
       "    .dataframe tbody tr th {\n",
       "        vertical-align: top;\n",
       "    }\n",
       "\n",
       "    .dataframe thead th {\n",
       "        text-align: right;\n",
       "    }\n",
       "</style>\n",
       "<table border=\"1\" class=\"dataframe\">\n",
       "  <thead>\n",
       "    <tr style=\"text-align: right;\">\n",
       "      <th></th>\n",
       "      <th>RANK</th>\n",
       "      <th>AGE</th>\n",
       "      <th>GP</th>\n",
       "      <th>MPG</th>\n",
       "      <th>USG%</th>\n",
       "      <th>TO%</th>\n",
       "      <th>FTA</th>\n",
       "      <th>FT%</th>\n",
       "      <th>2PA</th>\n",
       "      <th>2P%</th>\n",
       "      <th>...</th>\n",
       "      <th>APG</th>\n",
       "      <th>SPG</th>\n",
       "      <th>BPG</th>\n",
       "      <th>TPG</th>\n",
       "      <th>P+R</th>\n",
       "      <th>P+A</th>\n",
       "      <th>P+R+A</th>\n",
       "      <th>VI</th>\n",
       "      <th>ORtg</th>\n",
       "      <th>DRtg</th>\n",
       "    </tr>\n",
       "    <tr>\n",
       "      <th>Cluster</th>\n",
       "      <th></th>\n",
       "      <th></th>\n",
       "      <th></th>\n",
       "      <th></th>\n",
       "      <th></th>\n",
       "      <th></th>\n",
       "      <th></th>\n",
       "      <th></th>\n",
       "      <th></th>\n",
       "      <th></th>\n",
       "      <th></th>\n",
       "      <th></th>\n",
       "      <th></th>\n",
       "      <th></th>\n",
       "      <th></th>\n",
       "      <th></th>\n",
       "      <th></th>\n",
       "      <th></th>\n",
       "      <th></th>\n",
       "      <th></th>\n",
       "      <th></th>\n",
       "    </tr>\n",
       "  </thead>\n",
       "  <tbody>\n",
       "    <tr>\n",
       "      <th>0</th>\n",
       "      <td>64.174603</td>\n",
       "      <td>28.376190</td>\n",
       "      <td>9.507937</td>\n",
       "      <td>30.166667</td>\n",
       "      <td>17.677778</td>\n",
       "      <td>12.001587</td>\n",
       "      <td>18.952381</td>\n",
       "      <td>0.783825</td>\n",
       "      <td>50.206349</td>\n",
       "      <td>0.526238</td>\n",
       "      <td>...</td>\n",
       "      <td>2.312698</td>\n",
       "      <td>0.798413</td>\n",
       "      <td>0.658730</td>\n",
       "      <td>1.295238</td>\n",
       "      <td>16.900000</td>\n",
       "      <td>13.923810</td>\n",
       "      <td>19.203175</td>\n",
       "      <td>6.563492</td>\n",
       "      <td>115.271429</td>\n",
       "      <td>108.971429</td>\n",
       "    </tr>\n",
       "    <tr>\n",
       "      <th>1</th>\n",
       "      <td>197.724138</td>\n",
       "      <td>26.724138</td>\n",
       "      <td>3.379310</td>\n",
       "      <td>3.613793</td>\n",
       "      <td>15.358621</td>\n",
       "      <td>18.379310</td>\n",
       "      <td>0.931034</td>\n",
       "      <td>0.178172</td>\n",
       "      <td>1.551724</td>\n",
       "      <td>0.083724</td>\n",
       "      <td>...</td>\n",
       "      <td>0.286207</td>\n",
       "      <td>0.096552</td>\n",
       "      <td>0.055172</td>\n",
       "      <td>0.258621</td>\n",
       "      <td>1.065517</td>\n",
       "      <td>0.589655</td>\n",
       "      <td>1.355172</td>\n",
       "      <td>1.896552</td>\n",
       "      <td>16.600000</td>\n",
       "      <td>33.596552</td>\n",
       "    </tr>\n",
       "    <tr>\n",
       "      <th>2</th>\n",
       "      <td>17.437500</td>\n",
       "      <td>28.687500</td>\n",
       "      <td>10.593750</td>\n",
       "      <td>38.768750</td>\n",
       "      <td>27.243750</td>\n",
       "      <td>12.143750</td>\n",
       "      <td>53.062500</td>\n",
       "      <td>0.829313</td>\n",
       "      <td>125.343750</td>\n",
       "      <td>0.534156</td>\n",
       "      <td>...</td>\n",
       "      <td>5.406250</td>\n",
       "      <td>1.096875</td>\n",
       "      <td>0.696875</td>\n",
       "      <td>2.553125</td>\n",
       "      <td>31.081250</td>\n",
       "      <td>29.431250</td>\n",
       "      <td>36.487500</td>\n",
       "      <td>9.656250</td>\n",
       "      <td>116.118750</td>\n",
       "      <td>109.540625</td>\n",
       "    </tr>\n",
       "    <tr>\n",
       "      <th>3</th>\n",
       "      <td>139.955056</td>\n",
       "      <td>27.277528</td>\n",
       "      <td>6.685393</td>\n",
       "      <td>11.380899</td>\n",
       "      <td>15.606742</td>\n",
       "      <td>11.313483</td>\n",
       "      <td>3.932584</td>\n",
       "      <td>0.471607</td>\n",
       "      <td>10.797753</td>\n",
       "      <td>0.534011</td>\n",
       "      <td>...</td>\n",
       "      <td>0.677528</td>\n",
       "      <td>0.306742</td>\n",
       "      <td>0.193258</td>\n",
       "      <td>0.400000</td>\n",
       "      <td>5.114607</td>\n",
       "      <td>4.022472</td>\n",
       "      <td>5.788764</td>\n",
       "      <td>4.687640</td>\n",
       "      <td>97.574157</td>\n",
       "      <td>95.504494</td>\n",
       "    </tr>\n",
       "  </tbody>\n",
       "</table>\n",
       "<p>4 rows × 26 columns</p>\n",
       "</div>"
      ],
      "text/plain": [
       "               RANK        AGE         GP        MPG       USG%        TO%  \\\n",
       "Cluster                                                                      \n",
       "0         64.174603  28.376190   9.507937  30.166667  17.677778  12.001587   \n",
       "1        197.724138  26.724138   3.379310   3.613793  15.358621  18.379310   \n",
       "2         17.437500  28.687500  10.593750  38.768750  27.243750  12.143750   \n",
       "3        139.955056  27.277528   6.685393  11.380899  15.606742  11.313483   \n",
       "\n",
       "               FTA       FT%         2PA       2P%  ...       APG       SPG  \\\n",
       "Cluster                                             ...                       \n",
       "0        18.952381  0.783825   50.206349  0.526238  ...  2.312698  0.798413   \n",
       "1         0.931034  0.178172    1.551724  0.083724  ...  0.286207  0.096552   \n",
       "2        53.062500  0.829313  125.343750  0.534156  ...  5.406250  1.096875   \n",
       "3         3.932584  0.471607   10.797753  0.534011  ...  0.677528  0.306742   \n",
       "\n",
       "              BPG       TPG        P+R        P+A      P+R+A        VI  \\\n",
       "Cluster                                                                  \n",
       "0        0.658730  1.295238  16.900000  13.923810  19.203175  6.563492   \n",
       "1        0.055172  0.258621   1.065517   0.589655   1.355172  1.896552   \n",
       "2        0.696875  2.553125  31.081250  29.431250  36.487500  9.656250   \n",
       "3        0.193258  0.400000   5.114607   4.022472   5.788764  4.687640   \n",
       "\n",
       "               ORtg        DRtg  \n",
       "Cluster                          \n",
       "0        115.271429  108.971429  \n",
       "1         16.600000   33.596552  \n",
       "2        116.118750  109.540625  \n",
       "3         97.574157   95.504494  \n",
       "\n",
       "[4 rows x 26 columns]"
      ]
     },
     "execution_count": 78,
     "metadata": {},
     "output_type": "execute_result"
    }
   ],
   "source": [
    "df[numerical_columns + [\"Cluster\"]].groupby(\"Cluster\").mean()\n"
   ]
  },
  {
   "cell_type": "code",
   "execution_count": 79,
   "id": "2e3b2c4c",
   "metadata": {},
   "outputs": [
    {
     "data": {
      "text/html": [
       "<div>\n",
       "<style scoped>\n",
       "    .dataframe tbody tr th:only-of-type {\n",
       "        vertical-align: middle;\n",
       "    }\n",
       "\n",
       "    .dataframe tbody tr th {\n",
       "        vertical-align: top;\n",
       "    }\n",
       "\n",
       "    .dataframe thead th {\n",
       "        text-align: right;\n",
       "    }\n",
       "</style>\n",
       "<table border=\"1\" class=\"dataframe\">\n",
       "  <thead>\n",
       "    <tr style=\"text-align: right;\">\n",
       "      <th></th>\n",
       "      <th>NAME</th>\n",
       "      <th>TEAM</th>\n",
       "      <th>POS</th>\n",
       "    </tr>\n",
       "    <tr>\n",
       "      <th>Cluster</th>\n",
       "      <th></th>\n",
       "      <th></th>\n",
       "      <th></th>\n",
       "    </tr>\n",
       "  </thead>\n",
       "  <tbody>\n",
       "    <tr>\n",
       "      <th>0</th>\n",
       "      <td>Aaron Gordon</td>\n",
       "      <td>Nor</td>\n",
       "      <td>G</td>\n",
       "    </tr>\n",
       "    <tr>\n",
       "      <th>1</th>\n",
       "      <td>Bol Bol</td>\n",
       "      <td>Min</td>\n",
       "      <td>F</td>\n",
       "    </tr>\n",
       "    <tr>\n",
       "      <th>2</th>\n",
       "      <td>Anthony Davis</td>\n",
       "      <td>Bos</td>\n",
       "      <td>G</td>\n",
       "    </tr>\n",
       "    <tr>\n",
       "      <th>3</th>\n",
       "      <td>A.J. Lawson</td>\n",
       "      <td>Orl</td>\n",
       "      <td>G</td>\n",
       "    </tr>\n",
       "  </tbody>\n",
       "</table>\n",
       "</div>"
      ],
      "text/plain": [
       "                  NAME TEAM POS\n",
       "Cluster                        \n",
       "0         Aaron Gordon  Nor   G\n",
       "1              Bol Bol  Min   F\n",
       "2        Anthony Davis  Bos   G\n",
       "3          A.J. Lawson  Orl   G"
      ]
     },
     "execution_count": 79,
     "metadata": {},
     "output_type": "execute_result"
    }
   ],
   "source": [
    "df[categorical_columns + [\"Cluster\"]].groupby(\"Cluster\").agg(lambda x: x.mode()[0])\n"
   ]
  },
  {
   "cell_type": "code",
   "execution_count": 80,
   "id": "f74ef07b",
   "metadata": {},
   "outputs": [
    {
     "data": {
      "text/plain": [
       "<Axes: xlabel='Cluster', ylabel='2PA'>"
      ]
     },
     "execution_count": 80,
     "metadata": {},
     "output_type": "execute_result"
    },
    {
     "data": {
      "image/png": "[encoded data removed]",
      "text/plain": [
       "<Figure size 640x480 with 1 Axes>"
      ]
     },
     "metadata": {},
     "output_type": "display_data"
    }
   ],
   "source": [
    "sns.barplot(df, x=\"Cluster\", y=\"2PA\", estimator=\"mean\")\n"
   ]
  },
  {
   "cell_type": "code",
   "execution_count": 81,
   "id": "4c52ca81",
   "metadata": {},
   "outputs": [
    {
     "data": {
      "text/plain": [
       "<Axes: xlabel='Cluster', ylabel='3PA'>"
      ]
     },
     "execution_count": 81,
     "metadata": {},
     "output_type": "execute_result"
    },
    {
     "data": {
      "image/png": "[encoded data removed]",
      "text/plain": [
       "<Figure size 640x480 with 1 Axes>"
      ]
     },
     "metadata": {},
     "output_type": "display_data"
    }
   ],
   "source": [
    "sns.barplot(df, x=\"Cluster\", y=\"3PA\", estimator=\"mean\")\n"
   ]
  },
  {
   "cell_type": "code",
   "execution_count": 82,
   "id": "ce03e914",
   "metadata": {},
   "outputs": [
    {
     "data": {
      "text/plain": [
       "<Axes: xlabel='Cluster', ylabel='3P%'>"
      ]
     },
     "execution_count": 82,
     "metadata": {},
     "output_type": "execute_result"
    },
    {
     "data": {
      "image/png": "[encoded data removed]",
      "text/plain": [
       "<Figure size 640x480 with 1 Axes>"
      ]
     },
     "metadata": {},
     "output_type": "display_data"
    }
   ],
   "source": [
    "sns.barplot(df, x=\"Cluster\", y=\"3P%\", estimator=\"mean\")\n"
   ]
  },
  {
   "cell_type": "code",
   "execution_count": 83,
   "id": "f04852c9",
   "metadata": {},
   "outputs": [
    {
     "data": {
      "text/plain": [
       "<Axes: xlabel='Cluster', ylabel='2P%'>"
      ]
     },
     "execution_count": 83,
     "metadata": {},
     "output_type": "execute_result"
    },
    {
     "data": {
      "image/png": "[encoded data removed]",
      "text/plain": [
       "<Figure size 640x480 with 1 Axes>"
      ]
     },
     "metadata": {},
     "output_type": "display_data"
    }
   ],
   "source": [
    "sns.barplot(df, x=\"Cluster\", y=\"2P%\", estimator=\"mean\")\n"
   ]
  }
 ],
 "metadata": {
  "kernelspec": {
   "display_name": "Baruch-Semana-Tec",
   "language": "python",
   "name": "python3"
  },
  "language_info": {
   "codemirror_mode": {
    "name": "ipython",
    "version": 3
   },
   "file_extension": ".py",
   "mimetype": "text/x-python",
   "name": "python",
   "nbconvert_exporter": "python",
   "pygments_lexer": "ipython3",
   "version": "3.13.9"
  }
 },
 "nbformat": 4,
 "nbformat_minor": 5
}
